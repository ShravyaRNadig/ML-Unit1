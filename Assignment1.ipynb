{
 "cells": [
  {
   "cell_type": "markdown",
   "id": "981b6c90",
   "metadata": {},
   "source": [
    "###  Questions\n",
    "* Import the hotel_booking.csv\n",
    "* Treat the Null Values\n",
    "    * Drop the company column\n",
    "    * Fill the agent column with previous values \n",
    "    * Drop the rows for all other\n",
    "* Do Label encoding for the important categorical variables\n",
    "* Do feature scaling for numerical variables\n",
    "* Select 5 important features to predict the booking cancellation\n",
    "* Use those 5 features as X and is_cancelled as y and split into train and test and build the model\n",
    "* Evaluate the model by finding the accuracy"
   ]
  },
  {
   "cell_type": "code",
   "execution_count": null,
   "id": "647c0dab",
   "metadata": {},
   "outputs": [],
   "source": []
  }
 ],
 "metadata": {
  "kernelspec": {
   "display_name": "Python 3",
   "language": "python",
   "name": "python3"
  },
  "language_info": {
   "codemirror_mode": {
    "name": "ipython",
    "version": 3
   },
   "file_extension": ".py",
   "mimetype": "text/x-python",
   "name": "python",
   "nbconvert_exporter": "python",
   "pygments_lexer": "ipython3",
   "version": "3.8.8"
  }
 },
 "nbformat": 4,
 "nbformat_minor": 5
}
